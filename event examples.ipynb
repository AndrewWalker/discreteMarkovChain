{
 "metadata": {
  "name": "",
  "signature": "sha256:505ba4c2550b28b16b276cf231b060ef5e3f50cdf4a960b88f87e937c819b046"
 },
 "nbformat": 3,
 "nbformat_minor": 0,
 "worksheets": [
  {
   "cells": [
    {
     "cell_type": "code",
     "collapsed": false,
     "input": [
      "import numpy as np"
     ],
     "language": "python",
     "metadata": {},
     "outputs": [],
     "prompt_number": 1
    },
    {
     "cell_type": "markdown",
     "metadata": {},
     "source": [
      "First lets assign the variables for our random walk."
     ]
    },
    {
     "cell_type": "code",
     "collapsed": false,
     "input": [
      "n = 2\n",
      "m = 0\n",
      "M = 4\n",
      "uprate = 2.\n",
      "downrate = 1."
     ],
     "language": "python",
     "metadata": {},
     "outputs": [],
     "prompt_number": 2
    },
    {
     "cell_type": "markdown",
     "metadata": {},
     "source": [
      "Now, let's look at the transitions for a specific state, namely:"
     ]
    },
    {
     "cell_type": "code",
     "collapsed": false,
     "input": [
      "state = np.array([0,3])"
     ],
     "language": "python",
     "metadata": {},
     "outputs": []
    },
    {
     "cell_type": "markdown",
     "metadata": {},
     "source": [
      "The possible transitions are going up in either of the two random walks, or going down in the 2nd random walk. Below we define the possible events, which are simply two stacked identity matrices."
     ]
    },
    {
     "cell_type": "code",
     "collapsed": false,
     "input": [
      "events = np.vstack((np.eye(n,dtype=int),-np.eye(n,dtype=int)))\n",
      "events\n"
     ],
     "language": "python",
     "metadata": {},
     "outputs": [
      {
       "metadata": {},
       "output_type": "pyout",
       "prompt_number": 3,
       "text": [
        "array([[ 1,  0],\n",
        "       [ 0,  1],\n",
        "       [-1,  0],\n",
        "       [ 0, -1]])"
       ]
      }
     ],
     "prompt_number": 3
    },
    {
     "cell_type": "code",
     "collapsed": false,
     "input": [
      "state + events"
     ],
     "language": "python",
     "metadata": {},
     "outputs": [
      {
       "metadata": {},
       "output_type": "pyout",
       "prompt_number": 5,
       "text": [
        "array([[ 1,  3],\n",
        "       [ 0,  4],\n",
        "       [-1,  3],\n",
        "       [ 0,  2]])"
       ]
      }
     ],
     "prompt_number": 5
    },
    {
     "cell_type": "markdown",
     "metadata": {},
     "source": [
      "These are the states after the transitions, but clearly there is a mistake since [-1,3] is not allowed. We are going to fix that now, by looking only at the possible events in our state."
     ]
    },
    {
     "cell_type": "code",
     "collapsed": false,
     "input": [
      "up = state < M \n",
      "down = state > m\n",
      "possibleEvents = np.concatenate((up,down))\n",
      "possibleEvents"
     ],
     "language": "python",
     "metadata": {},
     "outputs": [
      {
       "metadata": {},
       "output_type": "pyout",
       "prompt_number": 6,
       "text": [
        "array([ True,  True, False,  True], dtype=bool)"
       ]
      }
     ],
     "prompt_number": 6
    },
    {
     "cell_type": "code",
     "collapsed": false,
     "input": [
      "state + events[possibleEvents]"
     ],
     "language": "python",
     "metadata": {},
     "outputs": [
      {
       "metadata": {},
       "output_type": "pyout",
       "prompt_number": 7,
       "text": [
        "array([[1, 3],\n",
        "       [0, 4],\n",
        "       [0, 2]])"
       ]
      }
     ],
     "prompt_number": 7
    },
    {
     "cell_type": "markdown",
     "metadata": {},
     "source": [
      "This is correct now. We can also calculate the corresponding transition rates:"
     ]
    },
    {
     "cell_type": "code",
     "collapsed": false,
     "input": [
      "\n",
      "eventRates = np.concatenate((uprate*np.ones(n),downrate*np.ones(n)))\n",
      "eventRates\n",
      "                             "
     ],
     "language": "python",
     "metadata": {},
     "outputs": [
      {
       "metadata": {},
       "output_type": "pyout",
       "prompt_number": 4,
       "text": [
        "array([ 2.,  2.,  1.,  1.])"
       ]
      }
     ],
     "prompt_number": 4
    },
    {
     "cell_type": "markdown",
     "metadata": {},
     "source": [
      "The ones that correspond to our state are simply"
     ]
    },
    {
     "cell_type": "code",
     "collapsed": false,
     "input": [
      "eventRates[possibleEvents]"
     ],
     "language": "python",
     "metadata": {},
     "outputs": [
      {
       "metadata": {},
       "output_type": "pyout",
       "prompt_number": 8,
       "text": [
        "array([ 2.,  2.,  1.])"
       ]
      }
     ],
     "prompt_number": 8
    }
   ],
   "metadata": {}
  }
 ]
}